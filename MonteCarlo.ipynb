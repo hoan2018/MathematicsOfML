{
  "nbformat": 4,
  "nbformat_minor": 0,
  "metadata": {
    "colab": {
      "provenance": [],
      "authorship_tag": "ABX9TyMV1uyNzPfhdnags9bLFmNQ",
      "include_colab_link": true
    },
    "kernelspec": {
      "name": "python3",
      "display_name": "Python 3"
    },
    "language_info": {
      "name": "python"
    }
  },
  "cells": [
    {
      "cell_type": "markdown",
      "metadata": {
        "id": "view-in-github",
        "colab_type": "text"
      },
      "source": [
        "<a href=\"https://colab.research.google.com/github/vijaygwu/MathematicsOfML/blob/main/MonteCarlo.ipynb\" target=\"_parent\"><img src=\"https://colab.research.google.com/assets/colab-badge.svg\" alt=\"Open In Colab\"/></a>"
      ]
    },
    {
      "cell_type": "markdown",
      "source": [
        "### Monte Carlo Simulation"
      ],
      "metadata": {
        "id": "blmmBqgrqnni"
      }
    },
    {
      "cell_type": "code",
      "source": [
        "import numpy as np\n",
        "import math\n",
        "\n",
        "def estimate_pi_single(num_points=1_000_000):\n",
        "    \"\"\"\n",
        "    Estimate the value of pi using a single Monte Carlo trial.\n",
        "    Generates points in a unit square and counts how many lie\n",
        "    inside the quarter circle x^2 + y^2 <= 1.\n",
        "    \"\"\"\n",
        "    # Generate arrays of random x and y coordinates in [0, 1)\n",
        "    x = np.random.rand(num_points)\n",
        "    y = np.random.rand(num_points)\n",
        "\n",
        "    # Compute how many points fall inside the quarter circle\n",
        "    r_squared = x**2 + y**2\n",
        "    inside_circle = np.count_nonzero(r_squared <= 1.0)\n",
        "\n",
        "    # Estimate pi using the ratio inside_circle/total_points = pi/4\n",
        "    pi_estimate = 4.0 * inside_circle / num_points\n",
        "    return pi_estimate\n",
        "\n",
        "def estimate_pi_multiple_corrected(num_points=1_000_000, trials=10):\n",
        "    \"\"\"\n",
        "    Run multiple Monte Carlo trials to estimate pi and compute\n",
        "    a corrected 95% confidence interval using only the standard\n",
        "    deviation of the means.\n",
        "    \"\"\"\n",
        "    estimates = []\n",
        "    for _ in range(trials):\n",
        "        pi_est = estimate_pi_single(num_points)\n",
        "        estimates.append(pi_est)\n",
        "\n",
        "    mean_est = np.mean(estimates)\n",
        "    std_est = np.std(estimates, ddof=1)\n",
        "\n",
        "    # Just use the standard deviation of the means for CI\n",
        "    ci_95 = 1.96 * std_est\n",
        "\n",
        "    return mean_est, ci_95\n",
        "\n",
        "def verify_confidence_intervals(n_experiments=1000, n_points=1_000_000, n_trials=10):\n",
        "    \"\"\"\n",
        "    Run multiple experiments to verify that the confidence intervals\n",
        "    contain the true value of π approximately 95% of the time.\n",
        "    \"\"\"\n",
        "    count_within_ci = 0\n",
        "    true_pi = math.pi\n",
        "\n",
        "    for i in range(n_experiments):\n",
        "        mean_est, ci_95 = estimate_pi_multiple_corrected(num_points=n_points, trials=n_trials)\n",
        "        if (mean_est - ci_95) <= true_pi <= (mean_est + ci_95):\n",
        "            count_within_ci += 1\n",
        "\n",
        "        # Print progress every 100 experiments\n",
        "        if (i + 1) % 100 == 0:\n",
        "            print(f\"Completed {i + 1} experiments...\")\n",
        "\n",
        "    coverage = count_within_ci / n_experiments\n",
        "    print(f\"\\nResults:\")\n",
        "    print(f\"True value of π was within the CI in {coverage*100:.1f}% of experiments\")\n",
        "    return coverage\n",
        "\n",
        "if __name__ == \"__main__\":\n",
        "    # First run a single estimation with confidence interval\n",
        "    n_points = 1_000_000\n",
        "    n_trials = 10\n",
        "\n",
        "    print(\"Running single estimation...\")\n",
        "    mean_pi, ci_95 = estimate_pi_multiple_corrected(num_points=n_points, trials=n_trials)\n",
        "\n",
        "    print(f\"\\nAfter {n_trials} trials of {n_points:,} points each:\")\n",
        "    print(f\"  Mean π estimate       = {mean_pi:.6f}\")\n",
        "    print(f\"  95% Confidence Interval = [{mean_pi - ci_95:.6f}, {mean_pi + ci_95:.6f}]\")\n",
        "    print(f\"  Actual math.pi         = {math.pi:.6f}\")\n",
        "\n",
        "    # Then verify the confidence interval coverage\n",
        "    print(\"\\nVerifying confidence interval coverage...\")\n",
        "    coverage = verify_confidence_intervals(n_experiments=1000, n_points=n_points, n_trials=n_trials)"
      ],
      "metadata": {
        "id": "c-T6dSbPSpTr"
      },
      "execution_count": null,
      "outputs": []
    }
  ]
}