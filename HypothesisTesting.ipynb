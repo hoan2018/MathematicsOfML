{
  "nbformat": 4,
  "nbformat_minor": 0,
  "metadata": {
    "colab": {
      "provenance": [],
      "authorship_tag": "ABX9TyMHJxB1NbZElRCPWw8hwdpT",
      "include_colab_link": true
    },
    "kernelspec": {
      "name": "python3",
      "display_name": "Python 3"
    },
    "language_info": {
      "name": "python"
    }
  },
  "cells": [
    {
      "cell_type": "markdown",
      "metadata": {
        "id": "view-in-github",
        "colab_type": "text"
      },
      "source": [
        "<a href=\"https://colab.research.google.com/github/vijaygwu/MathematicsOfML/blob/main/HypothesisTesting.ipynb\" target=\"_parent\"><img src=\"https://colab.research.google.com/assets/colab-badge.svg\" alt=\"Open In Colab\"/></a>"
      ]
    },
    {
      "cell_type": "markdown",
      "source": [
        "## Scenario\n",
        "\n",
        "A local coffee shop advertises that its **average customer wait time** at the counter is **5 minutes**. You decide to measure wait times for a sample of customers to verify whether the coffee shop's claim holds true.\n",
        "\n",
        "- **Null Hypothesis ($ H_0 $)**: The true mean wait time is 5 minutes.  \n",
        "- **Alternative Hypothesis ($ H_1 $)**: The true mean wait time is not 5 minutes (it could be higher or lower).\n",
        "\n",
        "You collect data by timing **50** randomly selected customers from the moment they join the queue until they receive their order. We'll generate some mock data to simulate real measurements."
      ],
      "metadata": {
        "id": "Fp7NGaXjsdO5"
      }
    },
    {
      "cell_type": "markdown",
      "source": [
        "## Explanation\n",
        "\n",
        "1. **Data Generation**  \n",
        "   - In a real-world scenario, you would **collect actual wait time data** instead of generating it. Here, we simulate it with a normal distribution centered at 5.5 minutes, implying the true average is slightly above the coffee shop’s claim of 5 minutes.\n",
        "\n",
        "2. **Formulating Hypotheses**  \n",
        "   - We want to see if the coffee shop’s stated average (5 minutes) is accurate.  \n",
        "   - \\($H_0$): \\($mu = 5$) (the mean wait time is exactly 5 minutes)  \n",
        "   - \\($H_1$): \\($mu \\neq 5$) (the mean wait time is different from 5 minutes)\n",
        "\n",
        "3. **Performing a One-Sample T-Test**  \n",
        "   - We use `scipy.stats.ttest_1samp(data, mu_0)` to compare our sample's mean to the hypothesized mean (5 minutes).  \n",
        "   - This returns two values:\n",
        "     - `t_statistic`: measures how far the sample mean is from the hypothesized mean in units of standard error.  \n",
        "     - `p_value`: the probability of observing a result at least as extreme as ours, assuming \\($H_0$) is true.\n",
        "\n",
        "4. **Constructing a 95% Confidence Interval (CI)**  \n",
        "   - We manually compute the 95% CI for the sample mean:\n",
        "     - \\$\\text{Sample Mean} \\pm t_{\\text{crit}} \\times \\text{Standard Error}$ .  \n",
        "     - If the hypothesized mean (5) is **outside** this interval, it suggests a significant difference at the 5% level.\n",
        "\n",
        "5. **Interpreting the Results**  \n",
        "   - **p-value**: If \\(p < 0.05\\), we **reject** \\$(H_0\\ $). Otherwise, we **fail to reject** \\$(H_0\\$).  \n",
        "   - **Confidence Interval**: If 5 is not inside the computed interval, we can infer the population mean is likely different from 5 (with 95% confidence).\n"
      ],
      "metadata": {
        "id": "mYM1ZjnluO3i"
      }
    },
    {
      "cell_type": "code",
      "source": [
        "import numpy as np\n",
        "import scipy.stats as stats\n",
        "\n",
        "# -----------------------\n",
        "# 1. DATA GENERATION\n",
        "# -----------------------\n",
        "# Scenario: The coffee shop claims the average wait time is 5 minutes.\n",
        "# We measure 50 wait times. Here, we simulate the data to have a mean of 5.5,\n",
        "# suggesting in reality they might be waiting longer than advertised.\n",
        "np.random.seed(42)  # For reproducibility\n",
        "sample_size = 50\n",
        "true_mean = 5.5  # Real mean (unknown in practice, only known here to simulate data)\n",
        "data = np.random.normal(loc=true_mean, scale=1, size=sample_size)\n",
        "\n",
        "# -----------------------\n",
        "# 2. DEFINE HYPOTHESES\n",
        "# -----------------------\n",
        "# H0: mean = 5\n",
        "# H1: mean != 5\n",
        "mu_0 = 5  # The \"advertised\" mean wait time\n",
        "\n",
        "# -----------------------\n",
        "# 3. ONE-SAMPLE T-TEST\n",
        "# -----------------------\n",
        "t_statistic, p_value = stats.ttest_1samp(data, mu_0)\n",
        "\n",
        "# -----------------------\n",
        "# 4. CONFIDENCE INTERVAL (95%)\n",
        "# -----------------------\n",
        "# We calculate a 95% CI for the sample mean manually:\n",
        "#  - sample_mean: mean of the data\n",
        "#  - sample_std: sample standard deviation (ddof=1)\n",
        "#  - se (standard error): sample_std / sqrt(n)\n",
        "#  - t_crit: critical t-value for 95% confidence and n-1 degrees of freedom\n",
        "#  - margin_of_error = t_crit * se\n",
        "#  - 95% CI = (sample_mean - margin_of_error, sample_mean + margin_of_error)\n",
        "\n",
        "sample_mean = np.mean(data)\n",
        "sample_std = np.std(data, ddof=1)  # Sample standard deviation\n",
        "n = len(data)\n",
        "se = sample_std / np.sqrt(n)\n",
        "\n",
        "confidence_level = 0.95\n",
        "alpha = 1 - confidence_level\n",
        "df = n - 1  # degrees of freedom\n",
        "t_crit = stats.t.ppf(1 - alpha/2, df)\n",
        "margin_of_error = t_crit * se\n",
        "conf_interval = (sample_mean - margin_of_error, sample_mean + margin_of_error)\n",
        "\n",
        "# -----------------------\n",
        "# 5. RESULTS & INTERPRETATION\n",
        "# -----------------------\n",
        "print(f\"Sample size (n): {n}\")\n",
        "print(f\"Sample mean: {sample_mean:.3f} minutes\")\n",
        "print(f\"Sample standard deviation: {sample_std:.3f} minutes\")\n",
        "print(f\"T-statistic: {t_statistic:.3f}\")\n",
        "print(f\"P-value: {p_value:.6f}\")\n",
        "print(f\"95% Confidence Interval: ({conf_interval[0]:.3f}, {conf_interval[1]:.3f})\")\n",
        "\n",
        "# Decision rule at α = 0.05\n",
        "alpha_level = 0.05\n",
        "if p_value < alpha_level:\n",
        "    print(f\"\\nSince p-value < {alpha_level}, we REJECT the null hypothesis.\")\n",
        "    print(\"Conclusion: The data suggests the true mean wait time is different from 5 minutes.\")\n",
        "else:\n",
        "    print(f\"\\nSince p-value >= {alpha_level}, we FAIL TO REJECT the null hypothesis.\")\n",
        "    print(\"Conclusion: We do not have enough evidence to say the true mean differs from 5 minutes.\")\n"
      ],
      "metadata": {
        "colab": {
          "base_uri": "https://localhost:8080/"
        },
        "id": "EDbXIpv-sdd9",
        "outputId": "05d0d2c1-61ef-477c-dc42-22406c23bda3"
      },
      "execution_count": null,
      "outputs": [
        {
          "output_type": "stream",
          "name": "stdout",
          "text": [
            "Sample size (n): 50\n",
            "Sample mean: 5.275 minutes\n",
            "Sample standard deviation: 0.934 minutes\n",
            "T-statistic: 2.079\n",
            "P-value: 0.042864\n",
            "95% Confidence Interval: (5.009, 5.540)\n",
            "\n",
            "Since p-value < 0.05, we REJECT the null hypothesis.\n",
            "Conclusion: The data suggests the true mean wait time is different from 5 minutes.\n"
          ]
        }
      ]
    },
    {
      "cell_type": "markdown",
      "source": [
        "## What This Means for Our Coffee Shop Scenario\n",
        "\n",
        "- If the test shows a **low p-value** (e.g., < 0.05) and a 95% CI that **does not include 5**, then it’s likely the **true average wait time is significantly longer** (or shorter) than the coffee shop’s advertised 5 minutes.  \n",
        "- If the p-value is high and 5 lies comfortably within the 95% CI, we don’t have enough evidence to conclude the wait times differ from 5 minutes.  \n",
        "\n",
        "In practice, this kind of test helps both the coffee shop’s management and customers understand if the service claims align with reality—and whether any process improvements may be needed."
      ],
      "metadata": {
        "id": "Hc4UNg7TubiA"
      }
    }
  ]
}